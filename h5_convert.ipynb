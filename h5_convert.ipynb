{
 "cells": [
  {
   "cell_type": "code",
   "execution_count": 2,
   "metadata": {},
   "outputs": [],
   "source": [
    "import eb"
   ]
  },
  {
   "cell_type": "code",
   "execution_count": 3,
   "metadata": {},
   "outputs": [],
   "source": [
    "\"\"\"System paths for reading and exporting data. Currently does not support more then one directory at once.\n",
    "\n",
    "input_path (str): Path to directory with *.out data. Requires non-nested directory structure.\n",
    "output_path (str): Path to export directory. Source directory will be created here.\n",
    "file_name (str): Single file export. Leave empty '' for batch (within directory) processing.\n",
    "\"\"\"\n",
    "\n",
    "input_path = '/backup/data/muni/Cells/EB6_P64L14_salb'\n",
    "output_path = '/backup/data/muni/Cells/Export'\n",
    "file_name = ''"
   ]
  },
  {
   "cell_type": "code",
   "execution_count": 4,
   "metadata": {},
   "outputs": [],
   "source": [
    "\"\"\" Output format settings. Variables `columns`, `custom_channel_names`, `custom_channel_units`, `custom_multipliers`\n",
    "can be specified as empty tuple `()`. In this case default values are inherited from *.ou file. Is specified, all tuples\n",
    "must contain the same number of elements.\n",
    "\n",
    "output_format (str): 'h5' or 'csv' are valid values\n",
    "columns (tuple): Select specific channels only\n",
    "custom_channel_names (tuple): Custom name for each channel\n",
    "custom_channel_units (tuple): New units for each channel\n",
    "custom_multipliers (tuple): Converts each channel to new units/range by using custom multiplier (currently not working for csv)\n",
    "\n",
    "\"\"\"\n",
    "# valid formats: 'csv' or 'h5'\n",
    "output_format = 'h5'\n",
    "\n",
    "# read/write/format custom channels\n",
    "columns = 1, 2, 3\n",
    "custom_channel_names = 'Height', 'Smooth Height', 'Vertical Deflection'\n",
    "custom_channel_units = 'um', 'um', 'uN'\n",
    "custom_multipliers = 1000000, 1000000, 1000000\n",
    "\n",
    "# rewrite default (inherit from file) settings\n",
    "eb.OUTPUT_SETTINGS['valid_cols'] = columns\n",
    "eb.OUTPUT_SETTINGS['channel_names'] = custom_channel_names\n",
    "eb.OUTPUT_SETTINGS['units'] = custom_channel_units\n",
    "eb.OUTPUT_SETTINGS['multiplier'] = custom_multipliers\n"
   ]
  },
  {
   "cell_type": "code",
   "execution_count": 6,
   "metadata": {},
   "outputs": [
    {
     "name": "stdout",
     "output_type": "stream",
     "text": [
      "Converting file EB6_salb 1uM (stab)-2020.11.09-14.29.54.109... ...exporting data into h5 file...DONE\n",
      "Converting file EB6_salb 100uM (rec)-2020.11.09-15.22.51.304... ...exporting data into h5 file...DONE\n",
      "Converting file EB6_salb 100uM (stab)-2020.11.09-15.13.04.484... ...exporting data into h5 file...DONE\n",
      "Converting file EB6_tyrode (rec)-2020.11.09-14.17.29.714... ...exporting data into h5 file...DONE\n",
      "Converting file EB6_salb 10uM (stab)-2020.11.09-14.51.25.637... ...exporting data into h5 file...DONE\n",
      "Converting file EB6_salb 1uM (rec)-2020.11.09-14.39.51.073... ...exporting data into h5 file...DONE\n",
      "Converting file EB6_salb 100uM (rec)-2020.11.09-15.33.49.709... ...exporting data into h5 file...DONE\n",
      "Converting file EB6_tyrode (stab)-2020.11.09-14.11.25.637... ...exporting data into h5 file...DONE\n",
      "Converting file EB6_salb 10uM (rec)-2020.11.09-15.00.38.569... ...exporting data into h5 file...DONE\n"
     ]
    }
   ],
   "source": [
    "\"\"\" Exports *.out files to Signal Plant compatible format\n",
    "\"\"\"\n",
    "\n",
    "# run export\n",
    "eb.run(input_path, output_path, file_name, output_format)\n"
   ]
  }
 ],
 "metadata": {
  "interpreter": {
   "hash": "196faf33e2ad606a48f0c32b9066c47740f03692d60ec7f0e49e4f5269939db2"
  },
  "kernelspec": {
   "display_name": "Python 3.8.10 ('ml-venv')",
   "language": "python",
   "name": "python3"
  },
  "language_info": {
   "codemirror_mode": {
    "name": "ipython",
    "version": 3
   },
   "file_extension": ".py",
   "mimetype": "text/x-python",
   "name": "python",
   "nbconvert_exporter": "python",
   "pygments_lexer": "ipython3",
   "version": "3.8.10"
  },
  "orig_nbformat": 4
 },
 "nbformat": 4,
 "nbformat_minor": 2
}
