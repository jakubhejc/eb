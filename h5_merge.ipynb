{
 "cells": [
  {
   "cell_type": "code",
   "execution_count": 1,
   "metadata": {},
   "outputs": [],
   "source": [
    "import os\n",
    "from glob import glob\n",
    "from pyplanter import PlantedH5"
   ]
  },
  {
   "cell_type": "code",
   "execution_count": null,
   "metadata": {},
   "outputs": [],
   "source": [
    "\"\"\" Merge multiple h5 datasets into single file\n",
    "\"\"\"\n",
    "input_path = '/backup/data/muni/Cells/EB6_P64L14_salb'\n",
    "output_path = '/backup/data/muni/Cells/Export'\n",
    "output_file_name = 'pokus'\n",
    "\n",
    "file_list = (\n",
    "    'EB6_salb_1uM_(rec)_2020-11-09_14-39-51-073',\n",
    "    'EB6_salb_1uM_(stab)_2020-11-09_14-29-54-109',\n",
    "    'EB6_salb_10uM_(rec)_2020-11-09_15-00-38-569',\n",
    ")\n",
    "\n",
    "# join input folder and files to be merged\n",
    "paths_list = [os.path.join(input_path, item) for item in file_list]\n",
    "\n",
    "#TODO: merge files into single h5\n",
    "raise NotImplementedError"
   ]
  }
 ],
 "metadata": {
  "interpreter": {
   "hash": "196faf33e2ad606a48f0c32b9066c47740f03692d60ec7f0e49e4f5269939db2"
  },
  "kernelspec": {
   "display_name": "Python 3.8.10 ('ml-venv')",
   "language": "python",
   "name": "python3"
  },
  "language_info": {
   "codemirror_mode": {
    "name": "ipython",
    "version": 3
   },
   "file_extension": ".py",
   "mimetype": "text/x-python",
   "name": "python",
   "nbconvert_exporter": "python",
   "pygments_lexer": "ipython3",
   "version": "3.8.10"
  },
  "orig_nbformat": 4
 },
 "nbformat": 4,
 "nbformat_minor": 2
}
